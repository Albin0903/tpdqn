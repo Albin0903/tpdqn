{
 "cells": [
  {
   "cell_type": "markdown",
   "metadata": {},
   "source": [
    "# TP1 Deep QLearning\n",
    "\n",
    "Dans ce TP, l'objectif est d'implémenter un agent apprenant à faire atterir un vaisseau sur la lune avec l'algorithme Deep Q-Network. Pour cela vous allez utiliser [PyTorch](https://pytorch.org/) et [Gymnasium](https://gymnasium.farama.org/). \n",
    "\n",
    "<img src='img/lunarlander.png'  width=500px>\n",
    "\n",
    "# 1. Consignes\n",
    "\n",
    "> <span style=\"color:red\">Compléter ce notebook et les différents fichiers python associés</span>.  \n",
    "> \n",
    ">  <span style=\"color:red\">Répondre aux questions</span> (dans les cellules <span style=\"color:blue\">Votre réponse: </span> )\n",
    "\n",
    "\n",
    "> Le code doit être fonctionnel avec l'environnement virtuel du TP. Si d'autres packages que ceux présents dans l'environnement virtuel créé au départ sont nécessaires, vous devez ajouter à votre dépôt un fichier `environnement.yaml` qui est un export de votre environnement virtuel. Ce fichier est obtenu avec la commande suivante:  ```conda env export > environnement.yaml```\n",
    "\n",
    "\n",
    "\n",
    "# 2. Import des packages"
   ]
  },
  {
   "cell_type": "code",
   "execution_count": null,
   "metadata": {},
   "outputs": [
    {
     "name": "stdout",
     "output_type": "stream",
     "text": [
      "The autoreload extension is already loaded. To reload it, use:\n",
      "  %reload_ext autoreload\n",
      "2.0.1\n"
     ]
    }
   ],
   "source": [
    "import gymnasium as gym\n",
    "import random\n",
    "import torch\n",
    "import numpy as np\n",
    "from collections import deque\n",
    "import matplotlib.pyplot as plt\n",
    "%matplotlib inline\n",
    "%load_ext autoreload\n",
    "\n",
    "print(np.__version__)\n",
    "\n",
    "def init_seed(seedval):\n",
    "    torch.manual_seed(seedval)\n",
    "    np.random.seed(seedval)\n",
    "    random.seed(seedval)"
   ]
  },
  {
   "cell_type": "markdown",
   "metadata": {},
   "source": [
    "# 3. Gymnasium\n",
    "\n",
    "En apprentissage par renforcement, il y a deux concepts fondamentaux : l’agent et l’environnement.\n",
    "- L’agent est l’entité apprenante qui observe l’environnement et agit sur celui-ci selon les actions disponibles. Son objectif est de maximiser la récompense cumulée qu’il recoit de l’environnement avec lequel il interagit.\n",
    "- L'agent interagit avec l'environnement à travers la boucle de perception/action ce qui nécessite de définir :\n",
    "    - Un espace d’action.\n",
    "    - Un espace d’état (ou observation).\n",
    "    - Une fonction de récompense.\n",
    "  \n",
    "[Gymnasium](https://gymnasium.farama.org/) propose une interface open source unifiée entre un agent et un environnement.\n",
    "- [Gymnasium](https://gymnasium.farama.org/) propose un ensemble d'environnements pour des tâches d'apprentissage par renforcement. La plupart des environnements ont leur code source disponible sur [GitHub](https://github.com/Farama-Foundation/Gymnasium/tree/main/gymnasium/envs). De nouveaux environnements peuvent aussi être créés à condition qu'ils soient compatibles avec l'interface. \n",
    "- Grâce à l'interface unifiée, il est possible de définir indépendamment un agent de l’environnement avec lequel il interagit (et inversement). \n",
    "- Lorsque certains pré-traitements sont nécessaires sur les actions, observations, récompenses, ... il est possible d’encapsuler l’environnement dans un **wrapper**, celui-ci se chargera du pré-traitement. \n",
    "\n"
   ]
  },
  {
   "cell_type": "markdown",
   "metadata": {},
   "source": [
    "\n",
    ">  <span style=\"color:green\">Documentation de Gymnasium</span>: [utilisation basique](https://gymnasium.farama.org/content/basic_usage/), [API pour les environnements](https://gymnasium.farama.org/api/env/), ...\n",
    "\n",
    "\n"
   ]
  },
  {
   "cell_type": "markdown",
   "metadata": {},
   "source": [
    "##  3.1 - Caractéristiques de l'environnement LunarLander\n",
    "\n",
    "Dans ce TP, nous allons implémenter un agent qui interagira avec l'environnement **LunarLander**, présenté  [ici](https://gymnasium.farama.org/environments/box2d/lunar_lander/) et le code source est [ici](https://github.com/openai/gym/blob/master/gym/envs/box2d/lunar_lander.py). 2 versions de LunarLander existent: avec des actions discrètes ou des actions continues.\n",
    "\n",
    "> <span style=\"color:green\">Quelle version choisir pour utiliser le DQN ? Pourquoi ? \n",
    "\n"
   ]
  },
  {
   "cell_type": "markdown",
   "metadata": {},
   "source": [
    "> <span style=\"color:blue\">Votre réponse: </span>\n",
    "\n",
    "Il faut choisir la version avec des actions discrètes, c'est-à-dire la version qui comprend un nombre d'action limité et défini. Le DQN fonctionne avec des actions discrètes, car il utilise une table Q pour stocker les valeurs d'action-état. Si les actions étaient continues, il y aurait une infinité d'actions possibles, rendant la table Q impossible à gérer."
   ]
  },
  {
   "cell_type": "markdown",
   "metadata": {},
   "source": [
    "Il existe plusieurs fonctions clés pour interagir avec un environnement Gymnasium ( [utilisation basique](https://gymnasium.farama.org/introduction/basic_usage/) et [API](https://gymnasium.farama.org/api/env/)).\n",
    "\n",
    "\n",
    "> <span style=\"color:green\">Compléter la cellule de code ci-dessous pour afficher:\n",
    "> \n",
    "> - **les dimensions pour les espaces d'états et d'actions** de l'environnement `LunarLander`.\n",
    "> - les bornes min et max pour les dimensions de l'état\n",
    "> - un échantillon pris au hasard dans chaque espace. "
   ]
  },
  {
   "cell_type": "code",
   "execution_count": 3,
   "metadata": {},
   "outputs": [
    {
     "name": "stdout",
     "output_type": "stream",
     "text": [
      "Dimension état : 8\n",
      "Dimension action : 4\n",
      "Bornes état :\n",
      "Min :  [ -2.5        -2.5       -10.        -10.         -6.2831855 -10.\n",
      "  -0.         -0.       ]\n",
      "Max :  [ 2.5        2.5       10.        10.         6.2831855 10.\n",
      "  1.         1.       ]\n",
      "Échantillon aléatoire de l'espace d'état : [-1.1174831   2.2890413  -1.5448478  -5.1334243  -1.1582102  -1.998545\n",
      "  0.71124476  0.92020464]\n",
      "Échantillon aléatoire de l'espace d'action : 2\n"
     ]
    }
   ],
   "source": [
    "env = gym.make(\"LunarLander-v3\")\n",
    "\n",
    "# Dimension de l'état et du nombre d'actions\n",
    "print(\"Dimension état :\", env.observation_space.shape[0])\n",
    "print(\"Dimension action :\", env.action_space.n)\n",
    "\n",
    "# Bornes min et max de l'état\n",
    "print(\"Bornes état :\")\n",
    "print(\"Min : \", env.observation_space.low)\n",
    "print(\"Max : \", env.observation_space.high)\n",
    "\n",
    "# Echantillon \n",
    "print(f\"Échantillon aléatoire de l'espace d'état : {env.observation_space.sample()}\")\n",
    "print(f\"Échantillon aléatoire de l'espace d'action : {env.action_space.sample()}\")\n",
    "\n",
    "\n",
    "\n"
   ]
  },
  {
   "cell_type": "markdown",
   "metadata": {},
   "source": [
    "> <span style=\"color:green\"> </span>  A quoi correspond dans le cas du LunarLander une terminaison d'un épisode avec *terminated* à True ? avec *truncated* à True ?"
   ]
  },
  {
   "cell_type": "markdown",
   "metadata": {},
   "source": [
    "> <span style=\"color:blue\">Votre réponse: </span>\n",
    "\n",
    "Terminated signifie que lors de l'épisode, l'agent a atteint un état terminal, comme atterrir avec succès ou s'écraser.\n",
    "Truncated signifie que l'épisode a été interrompu avant même d'avoir atteint un état terminal, une limite de temps par exemple.\n",
    "\n",
    "```python"
   ]
  },
  {
   "cell_type": "markdown",
   "metadata": {},
   "source": [
    "## 3.2 Interaction et affichage de l'environnement sur un épisode\n",
    "\n",
    "> <span style=\"color:green\">Exécuter une instance de l'environnement `LunarLander` pendant un épisode avec des **actions aléatoires**. Afficher l'environnement à chaque pas pour visualiser le comportement du vaisseau. A la fin de l'épisode, afficher la somme des récompenses obtenues sur l'épisode et la raison pour laquelle l'épisode s'est terminé. </span>\n",
    "\n"
   ]
  },
  {
   "cell_type": "code",
   "execution_count": 4,
   "metadata": {},
   "outputs": [
    {
     "name": "stdout",
     "output_type": "stream",
     "text": [
      "Récompenses obtenues : -354.23463927072606\n",
      "L'épisode s'est terminé naturellement (atterrissage ou crash)\n"
     ]
    }
   ],
   "source": [
    "env = gym.make(\"LunarLander-v3\", render_mode=\"human\")\n",
    "\n",
    "obs, info = env.reset()\n",
    "terminated = False \n",
    "truncated = False\n",
    "sum_reward = 0\n",
    "env.render()\n",
    "\n",
    "while not terminated and not truncated:\n",
    "    action = env.action_space.sample() # on choisit une action aléatoire\n",
    "    obs, reward, terminated, truncated, info = env.step(action)\n",
    "    sum_reward += reward\n",
    "    env.render() # on affiche l'environnement\n",
    "\n",
    "print(f\"Récompenses obtenues : {sum_reward}\")\n",
    "if terminated :\n",
    "    print(\"L'épisode s'est terminé naturellement (atterrissage ou crash)\")\n",
    "elif truncated :\n",
    "    print(\"L'épisode a été tronqué (par exemple, limite de temps atteinte)\")\n",
    "\n",
    "env.close()\n"
   ]
  },
  {
   "cell_type": "markdown",
   "metadata": {},
   "source": [
    "# 4. Agent simple (sans apprentissage)\n",
    "\n",
    "Vous devez maintenant implémenter un **agent simple** qui utilise une **Q fonction paramétrée** (réseau de neurones) pour choisir ses actions selon une stratégie $\\epsilon$-greedy (mais pas d'apprentissage pour l'instant).\n",
    "\n",
    "> <span style=\"color:green\">- Quels éléments seront en entrée du NN ? En sortie ? Quelle sera la dimension de l'entrée ? De la sortie ? </span>\n",
    "\n"
   ]
  },
  {
   "cell_type": "markdown",
   "metadata": {},
   "source": [
    "> <span style=\"color:blue\">Votre réponse: </span>\n",
    "\n",
    "L'entrée du réseau de neurones contient l'état actuel de l'environnement : - la position (en x et y) - la vitesse (en x et y) - l'angle - la vitesse angulaire - les indicateurs de contact avec le sol (gauche et droite). La dimension de l'entrée est donc 8.\n",
    "\n",
    "La sortie du réseau de neurones contient les actions possibles : - ne rien faire - allumer le moteur principal - allumer le moteur gauche - allumer le moteur droit. La dimension de la sortie est donc 4.\n",
    "\n"
   ]
  },
  {
   "cell_type": "markdown",
   "metadata": {},
   "source": [
    "> <span style=\"color:green\">- Quelle fonction d'activation sera utilisée sur le dernière couche du réseau ? Pourquoi ? </span>\n"
   ]
  },
  {
   "cell_type": "markdown",
   "metadata": {},
   "source": [
    "> <span style=\"color:blue\">Votre réponse: </span>\n",
    "\n",
    "Les valeurs de sortie sont des valeurs de Q, or celles-ci peuvent être positives ou négatives et n'ont pas de borne supérieure. On ne peut donc pas utiliser une fonction d'activation non linéaire comme ReLU ou Sigmoid car elles limiteraient la plage de valeurs possibles. On utilisera donc aucune fonction d'activation sur la dernière couche. "
   ]
  },
  {
   "cell_type": "markdown",
   "metadata": {},
   "source": [
    "- définir l'architecture du réseau de neurones en complétant `QNN.py`. Ce réseau va approximer la Q-fonction comme dans DQN (pour l'instant, les poids du réseau ne seront pas mis à jour, le réseau est uniquement utilisé en prédiction).\n",
    "\n",
    "- définir un agent simple en complétant `agentsimple.py`: il utilisera la prédiction du réseau de neurones pour choisir ses actions selon une stratégie d’exploration $\\epsilon$-greedy.\n",
    "\n",
    "- utiliser cet agent sur plusieurs épisodes dans `LunarLander`. Vous utiliserez une décroissance de l'exploration, i.e. que $\\epsilon$ va décroitre à chaque épisode, en démarrant à une valeur élevée (beaucoup d'exploration) et avec une borne minimum. Ainsi, au premier épisode, $\\epsilon=\\epsilon_{start}$, et à chaque épisode, $\\epsilon=max(\\epsilon_{end}, \\epsilon_{decay}*\\epsilon)$. Par exemple sur 1000 épisodes, les valeurs peuvent être $\\epsilon_{start} = 1.0$, $\\epsilon_{end} = 0.01$ et $\\epsilon_{decay} = 0.995$.\n",
    "\n",
    "- proposer un tracé de la somme des récompenses obtenues par épisode (vous pouvez utiliser le fichier `utils.py`, le wrapper [RecordEpisodeStatistics](https://gymnasium.farama.org/api/wrappers/misc_wrappers/#gymnasium.wrappers.RecordEpisodeStatistics ),  ...).\n"
   ]
  },
  {
   "cell_type": "code",
   "execution_count": 5,
   "metadata": {},
   "outputs": [],
   "source": [
    "#Reload all modules every time before executing the Python code typed\n",
    "%autoreload 2\n",
    "# import depuis un fichier python local \n",
    "from QNN import QNN \n",
    "from agentsimple import AgentSimple\n",
    "import utils"
   ]
  },
  {
   "cell_type": "code",
   "execution_count": 34,
   "metadata": {},
   "outputs": [
    {
     "name": "stdout",
     "output_type": "stream",
     "text": [
      "Épisode 100/1000, Récompense: -280.03, Epsilon: 0.6058\n",
      "Épisode 200/1000, Récompense: -101.60, Epsilon: 0.3670\n",
      "Épisode 300/1000, Récompense: -174.16, Epsilon: 0.2223\n",
      "Épisode 400/1000, Récompense: -196.66, Epsilon: 0.1347\n",
      "Épisode 500/1000, Récompense: -133.39, Epsilon: 0.0816\n",
      "Épisode 600/1000, Récompense: -111.89, Epsilon: 0.0494\n",
      "Épisode 700/1000, Récompense: -102.74, Epsilon: 0.0299\n",
      "Épisode 800/1000, Récompense: -317.49, Epsilon: 0.0181\n",
      "Épisode 900/1000, Récompense: -139.67, Epsilon: 0.0110\n",
      "Épisode 1000/1000, Récompense: -283.86, Epsilon: 0.0100\n"
     ]
    },
    {
     "data": {
      "image/png": "[encoded data removed]",
      "text/plain": [
       "<Figure size 640x480 with 1 Axes>"
      ]
     },
     "metadata": {},
     "output_type": "display_data"
    },
    {
     "name": "stdout",
     "output_type": "stream",
     "text": [
      "Moyenne des récompenses sur les 100 derniers épisodes: -244.65\n"
     ]
    }
   ],
   "source": [
    "#TODO\n",
    "# Hyperparamètres\n",
    "NB_EPISODES = 1000\n",
    "EPS_START = 1.0\n",
    "EPS_END = 0.01\n",
    "EPS_DECAY = 0.995 \n",
    "\n",
    "env = gym.make(\"LunarLander-v3\")\n",
    "\n",
    "dim_entree = env.observation_space.shape[0] # 8\n",
    "dim_sortie = env.action_space.n # 4\n",
    "\n",
    "agent = AgentSimple(dim_entree, dim_sortie)\n",
    "\n",
    "rewards_list = [] # liste des récompenses par épisode\n",
    "epsilon = EPS_START\n",
    "\n",
    "for episode in range(NB_EPISODES):\n",
    "    obs, info = env.reset()\n",
    "    terminated = False\n",
    "    truncated = False\n",
    "    episode_reward = 0\n",
    "\n",
    "    while not terminated and not truncated:\n",
    "        action = agent.action_egreedy(obs, epsilon)\n",
    "        obs, reward, terminated, truncated, info = env.step(action)\n",
    "        episode_reward += reward\n",
    "        \n",
    "    rewards_list.append(episode_reward) \n",
    "\n",
    "    epsilon = max(EPS_END, EPS_DECAY * epsilon)\n",
    "    \n",
    "    if (episode + 1) % 100 == 0:\n",
    "        print(f\"Épisode {episode + 1}/{NB_EPISODES}, Récompense: {episode_reward:.2f}, Epsilon: {epsilon:.4f}\")\n",
    "\n",
    "env.close()\n",
    "\n",
    "utils.plot_sumrwdperepi(rewards_list)\n",
    "\n",
    "mean_last_100_episodes = np.mean(rewards_list[-100:])\n",
    "print(f\"Moyenne des récompenses sur les 100 derniers épisodes: {mean_last_100_episodes:.2f}\")"
   ]
  },
  {
   "cell_type": "markdown",
   "metadata": {},
   "source": [
    "# 5. Deep QLearning avec Replay Buffer\n",
    "\n",
    "L'algorithme (sans réseau cible) est donné ci-dessous:\n",
    "\n",
    "<img src='img/DQN2.png'  width=700px>\n"
   ]
  },
  {
   "cell_type": "markdown",
   "metadata": {},
   "source": [
    "- La phase d'**échantillonage** est une phase d'interaction avec l'environnement (sans apprentissage), pendant laquelle l'agent stocke en mémoire toutes les transitions rencontrées. Une transition est un tuple `(état,action,état_suivant,récompense,fin_episode)`. La mémoire a une taille maximale; lorsqu’elle est dépassée, les nouvelles transitions remplacent les plus anciennes. \n",
    "\n",
    "- La phase d'**apprentissage** permet de mettre à jour les paramètres de la fonction *Q* à partir de plusieurs (minibatch) transitions (64 par exemple) stockées dans la mémoire. La phase d'apprentissage est réalisée tous les `t` pas (ou actions) dans l'environnement (par ex. $t=4$).\n",
    "\n",
    "- La classe `ReplayBuffer` du fichier `replaybuffer.py` permet de stocker des transitions dans une mémoire et de récupérer des minibatch de transitions."
   ]
  },
  {
   "cell_type": "markdown",
   "metadata": {},
   "source": [
    "\n",
    "Vous devez implémenter l'algorithme du **Deep QLearning avec ReplayBuffer** donné ci-dessus.\n",
    "\n",
    "Remarque: \n",
    "- vous n'utiliserez pas de réseau cible (*target network*) pour l'instant.\n",
    "- Pour l'optimizer, SGD et [Adam](https://machinelearningmastery.com/adam-optimization-algorithm-for-deep-learning/) sont particulièrement adaptés. \n",
    "- Dans la phase d'apprentissage, les éléments récupérés dans un minibatch  sont des tenseurs de taille $d \\times dim\\_element$. Vous devez dans cette phase faire des calculs tensoriel directement (et pas de boucle for sur $d$ !)\n",
    "- Voici aussi des liens vers différentes fonctions de PyTorch qui pourraient vous être utiles: [unsqueeze](https://pytorch.org/docs/stable/generated/torch.unsqueeze.html), [gather](https://pytorch.org/docs/stable/generated/torch.gather.html)\n"
   ]
  },
  {
   "cell_type": "markdown",
   "metadata": {},
   "source": [
    "> <span style=\"color:green\">Compléter la classe `AgentDQN`</span> \n",
    ">\n",
    "> <span style=\"color:green\">Implémenter l'algorithme dans la fonction *dqnalgo* ci-dessous.  </span> \n",
    ">\n",
    "> <span style=\"color:green\">Utiliser cet agent sur plusieurs épisodes dans l'environnement `LunarLander`. Vous proposerez un tracé de la somme des récompenses obtenues par épisode (vous pouvez utiliser `utils.py`).</span> \n",
    "\n",
    "\n",
    " \n",
    " "
   ]
  },
  {
   "cell_type": "code",
   "execution_count": 30,
   "metadata": {},
   "outputs": [],
   "source": [
    "#Reload all modules every time before executing the Python code typed\n",
    "%autoreload 2\n",
    "from replaybuffer import ReplayBuffer\n",
    "from agentdqn import AgentDQN"
   ]
  },
  {
   "cell_type": "code",
   "execution_count": 37,
   "metadata": {},
   "outputs": [],
   "source": [
    "#TODO\n",
    "\n",
    "def dqnalgo(agent, env, nb_episodes, eps_start=1.0, eps_end=0.01, eps_decay=0.995):\n",
    "    \"\"\"\n",
    "    Algorithme d'entraînement Deep Q-Learning.\n",
    "\n",
    "    Args:\n",
    "        agent (AgentDQN): L'agent à entraîner.\n",
    "        env: L'environnement Gymnasium.\n",
    "        nb_episodes (int): Le nombre d'épisodes pour l'entraînement.\n",
    "        eps_start (float): Valeur initiale d'epsilon.\n",
    "        eps_end (float): Valeur minimale d'epsilon.\n",
    "        eps_decay (float): Facteur de décroissance d'epsilon.\n",
    "\n",
    "    Returns:\n",
    "        list: Une liste contenant la somme des récompenses pour chaque épisode.\n",
    "    \"\"\"\n",
    "    rewards_list = []  # Pour stocker la récompense de chaque épisode\n",
    "    epsilon = eps_start\n",
    "\n",
    "    for episode in range(1, nb_episodes + 1):\n",
    "        obs, info = env.reset()\n",
    "        episode_reward = 0\n",
    "        terminated = False\n",
    "        truncated = False\n",
    "\n",
    "        while not terminated and not truncated:\n",
    "            # 1. Choisir une action\n",
    "            action = agent.action_egreedy(obs, epsilon)\n",
    "\n",
    "            # 2. Effectuer l'action dans l'environnement\n",
    "            next_obs, reward, terminated, truncated, info = env.step(action)\n",
    "\n",
    "            # 3. L'agent mémorise la transition et apprend si nécessaire\n",
    "            #    Le booléen \"done\" est True si l'épisode est terminé pour n'importe quelle raison\n",
    "            done = terminated or truncated\n",
    "            agent.phase_echantillonage(obs, action, reward, next_obs, done)\n",
    "\n",
    "            # 4. Préparer le pas de temps suivant\n",
    "            obs = next_obs\n",
    "            episode_reward += reward\n",
    "\n",
    "        # L'épisode est terminé, on sauvegarde la récompense\n",
    "        rewards_list.append(episode_reward)\n",
    "\n",
    "        # On fait décroître epsilon\n",
    "        epsilon = max(eps_end, eps_decay * epsilon)\n",
    "\n",
    "        # On affiche la progression\n",
    "        if episode % 100 == 0:\n",
    "            avg_reward = np.mean(rewards_list[-100:])\n",
    "            print(f\"Épisode {episode}/{nb_episodes} | Récompense moyenne (100 derniers): {avg_reward:.2f} | Epsilon: {epsilon:.4f}\")\n",
    "\n",
    "    return rewards_list\n",
    "\n",
    "    "
   ]
  },
  {
   "cell_type": "code",
   "execution_count": 41,
   "metadata": {},
   "outputs": [
    {
     "name": "stdout",
     "output_type": "stream",
     "text": [
      "Début de l'entraînement...\n"
     ]
    },
    {
     "ename": "RuntimeError",
     "evalue": "Numpy is not available",
     "output_type": "error",
     "traceback": [
      "\u001b[1;31m---------------------------------------------------------------------------\u001b[0m",
      "\u001b[1;31mRuntimeError\u001b[0m                              Traceback (most recent call last)",
      "Cell \u001b[1;32mIn[41], line 53\u001b[0m\n\u001b[0;32m     50\u001b[0m \u001b[38;5;66;03m# --- Lancement de l'entraînement ---\u001b[39;00m\n\u001b[0;32m     52\u001b[0m \u001b[38;5;28mprint\u001b[39m(\u001b[38;5;124m\"\u001b[39m\u001b[38;5;124mDébut de l\u001b[39m\u001b[38;5;124m'\u001b[39m\u001b[38;5;124mentraînement...\u001b[39m\u001b[38;5;124m\"\u001b[39m)\n\u001b[1;32m---> 53\u001b[0m rewards \u001b[38;5;241m=\u001b[39m \u001b[43mdqnalgo\u001b[49m\u001b[43m(\u001b[49m\u001b[43magent\u001b[49m\u001b[38;5;241;43m=\u001b[39;49m\u001b[43magent\u001b[49m\u001b[43m,\u001b[49m\n\u001b[0;32m     54\u001b[0m \u001b[43m                  \u001b[49m\u001b[43menv\u001b[49m\u001b[38;5;241;43m=\u001b[39;49m\u001b[43menv\u001b[49m\u001b[43m,\u001b[49m\n\u001b[0;32m     55\u001b[0m \u001b[43m                  \u001b[49m\u001b[43mnb_episodes\u001b[49m\u001b[38;5;241;43m=\u001b[39;49m\u001b[43mNB_EPISODES\u001b[49m\u001b[43m,\u001b[49m\n\u001b[0;32m     56\u001b[0m \u001b[43m                  \u001b[49m\u001b[43meps_start\u001b[49m\u001b[38;5;241;43m=\u001b[39;49m\u001b[43mEPS_START\u001b[49m\u001b[43m,\u001b[49m\n\u001b[0;32m     57\u001b[0m \u001b[43m                  \u001b[49m\u001b[43meps_end\u001b[49m\u001b[38;5;241;43m=\u001b[39;49m\u001b[43mEPS_END\u001b[49m\u001b[43m,\u001b[49m\n\u001b[0;32m     58\u001b[0m \u001b[43m                  \u001b[49m\u001b[43meps_decay\u001b[49m\u001b[38;5;241;43m=\u001b[39;49m\u001b[43mEPS_DECAY\u001b[49m\u001b[43m)\u001b[49m\n\u001b[0;32m     59\u001b[0m \u001b[38;5;28mprint\u001b[39m(\u001b[38;5;124m\"\u001b[39m\u001b[38;5;124mEntraînement terminé.\u001b[39m\u001b[38;5;124m\"\u001b[39m)\n\u001b[0;32m     61\u001b[0m \u001b[38;5;66;03m# --- Affichage des résultats ---\u001b[39;00m\n\u001b[0;32m     62\u001b[0m \n\u001b[0;32m     63\u001b[0m \u001b[38;5;66;03m# Tracé de la somme des récompenses par épisode\u001b[39;00m\n",
      "Cell \u001b[1;32mIn[37], line 29\u001b[0m, in \u001b[0;36mdqnalgo\u001b[1;34m(agent, env, nb_episodes, eps_start, eps_end, eps_decay)\u001b[0m\n\u001b[0;32m     25\u001b[0m truncated \u001b[38;5;241m=\u001b[39m \u001b[38;5;28;01mFalse\u001b[39;00m\n\u001b[0;32m     27\u001b[0m \u001b[38;5;28;01mwhile\u001b[39;00m \u001b[38;5;129;01mnot\u001b[39;00m terminated \u001b[38;5;129;01mand\u001b[39;00m \u001b[38;5;129;01mnot\u001b[39;00m truncated:\n\u001b[0;32m     28\u001b[0m     \u001b[38;5;66;03m# 1. Choisir une action\u001b[39;00m\n\u001b[1;32m---> 29\u001b[0m     action \u001b[38;5;241m=\u001b[39m \u001b[43magent\u001b[49m\u001b[38;5;241;43m.\u001b[39;49m\u001b[43maction_egreedy\u001b[49m\u001b[43m(\u001b[49m\u001b[43mobs\u001b[49m\u001b[43m,\u001b[49m\u001b[43m \u001b[49m\u001b[43mepsilon\u001b[49m\u001b[43m)\u001b[49m\n\u001b[0;32m     31\u001b[0m     \u001b[38;5;66;03m# 2. Effectuer l'action dans l'environnement\u001b[39;00m\n\u001b[0;32m     32\u001b[0m     next_obs, reward, terminated, truncated, info \u001b[38;5;241m=\u001b[39m env\u001b[38;5;241m.\u001b[39mstep(action)\n",
      "File \u001b[1;32mc:\\Users\\albin\\2025-5a-deepl-tpdqn-martin\\agentdqn.py:133\u001b[0m, in \u001b[0;36mAgentDQN.action_egreedy\u001b[1;34m(self, etat, eps)\u001b[0m\n\u001b[0;32m    130\u001b[0m     \u001b[38;5;28mself\u001b[39m\u001b[38;5;241m.\u001b[39mnetwork\u001b[38;5;241m.\u001b[39mtrain()\n\u001b[0;32m    132\u001b[0m     \u001b[38;5;66;03m# Choisit l'action avec la plus grande Q-valeur.\u001b[39;00m\n\u001b[1;32m--> 133\u001b[0m     \u001b[38;5;28;01mreturn\u001b[39;00m np\u001b[38;5;241m.\u001b[39margmax(\u001b[43maction_values\u001b[49m\u001b[38;5;241;43m.\u001b[39;49m\u001b[43mcpu\u001b[49m\u001b[43m(\u001b[49m\u001b[43m)\u001b[49m\u001b[38;5;241;43m.\u001b[39;49m\u001b[43mdata\u001b[49m\u001b[38;5;241;43m.\u001b[39;49m\u001b[43mnumpy\u001b[49m\u001b[43m(\u001b[49m\u001b[43m)\u001b[49m)\n\u001b[0;32m    134\u001b[0m \u001b[38;5;28;01melse\u001b[39;00m:\n\u001b[0;32m    135\u001b[0m     \u001b[38;5;66;03m# --- Exploration ---\u001b[39;00m\n\u001b[0;32m    136\u001b[0m     \u001b[38;5;66;03m# Choisit une action au hasard dans l'espace d'actions.\u001b[39;00m\n\u001b[0;32m    137\u001b[0m     \u001b[38;5;28;01mreturn\u001b[39;00m random\u001b[38;5;241m.\u001b[39mrandrange(\u001b[38;5;28mself\u001b[39m\u001b[38;5;241m.\u001b[39maction_size)\n",
      "\u001b[1;31mRuntimeError\u001b[0m: Numpy is not available"
     ]
    }
   ],
   "source": [
    "import gymnasium as gym\n",
    "import numpy as np\n",
    "import torch\n",
    "import utils # Assurez-vous que votre fichier utils.py est importé et accessible\n",
    "\n",
    "# --- Hyperparamètres pour l'entraînement ---\n",
    "\n",
    "# Nombre d'épisodes d'entraînement\n",
    "NB_EPISODES = 2000\n",
    "# Valeur de départ pour epsilon (exploration maximale)\n",
    "EPS_START = 1.0\n",
    "# Valeur minimale pour epsilon (exploration minimale)\n",
    "EPS_END = 0.01\n",
    "# Taux de décroissance d'epsilon (multiplicatif)\n",
    "EPS_DECAY = 0.995\n",
    "\n",
    "# --- Hyperparamètres pour l'AgentDQN ---\n",
    "\n",
    "# Facteur d'actualisation des récompenses futures\n",
    "GAMMA = 0.99\n",
    "# Taux d'apprentissage pour l'optimiseur Adam\n",
    "LR = 5e-4\n",
    "# Taille maximale du replay buffer\n",
    "BUFFER_SIZE = 100000\n",
    "# Taille du minibatch pour chaque phase d'apprentissage\n",
    "BATCH_SIZE = 64\n",
    "# Fréquence de mise à jour du réseau (tous les 4 pas)\n",
    "UPDATE_EVERY = 4\n",
    "\n",
    "# --- Initialisation de l'environnement et de l'agent ---\n",
    "\n",
    "# Création de l'environnement LunarLander.\n",
    "# Note : j'utilise 'v2' car le message d'erreur précédent indiquait que 'v3' n'existait pas.\n",
    "# Si 'v3' fonctionne pour vous, vous pouvez le laisser.\n",
    "env = gym.make(\"LunarLander-v3\")\n",
    "\n",
    "# Récupération des dimensions de l'état et de l'action depuis l'environnement\n",
    "dim_etat = env.observation_space.shape[0]\n",
    "dim_action = env.action_space.n\n",
    "\n",
    "# Création de l'agent avec les hyperparamètres définis\n",
    "agent = AgentDQN(dim_etat=dim_etat,\n",
    "                 dim_action=dim_action,\n",
    "                 gamma=GAMMA,\n",
    "                 lr=LR,\n",
    "                 buffer_size=BUFFER_SIZE,\n",
    "                 batch_size=BATCH_SIZE,\n",
    "                 update_every=UPDATE_EVERY)\n",
    "\n",
    "# --- Lancement de l'entraînement ---\n",
    "\n",
    "print(\"Début de l'entraînement...\")\n",
    "rewards = dqnalgo(agent=agent,\n",
    "                  env=env,\n",
    "                  nb_episodes=NB_EPISODES,\n",
    "                  eps_start=EPS_START,\n",
    "                  eps_end=EPS_END,\n",
    "                  eps_decay=EPS_DECAY)\n",
    "print(\"Entraînement terminé.\")\n",
    "\n",
    "# --- Affichage des résultats ---\n",
    "\n",
    "# Tracé de la somme des récompenses par épisode\n",
    "utils.plot_sumrwdperepi(rewards)\n",
    "\n",
    "# Calcul et affichage de la performance finale\n",
    "mean_last_100_episodes = np.mean(rewards[-100:])\n",
    "print(f\"Performance finale (moyenne sur les 100 derniers épisodes): {mean_last_100_episodes:.2f}\")\n",
    "\n",
    "# Fermeture de l'environnement\n",
    "env.close()"
   ]
  },
  {
   "cell_type": "markdown",
   "metadata": {},
   "source": [
    "> <span style=\"color:green\">Faites maintenant une moyenne sur différents seed, avec un apprentissage par seed, et tracer le résultat (somme des récompenses par épisodes) moyenné sur ces seed. Vous utiliserez `init_seed()` et pouvez utiliser `utils.py`.</span> </span> "
   ]
  },
  {
   "cell_type": "code",
   "execution_count": null,
   "metadata": {},
   "outputs": [],
   "source": []
  },
  {
   "cell_type": "markdown",
   "metadata": {},
   "source": [
    "# 6. Deep QLearning avec réseau cible\n",
    "\n",
    "Il se peut que votre agent précédent apprenne des comportements intéressants mais qu’ils soient très instables. On va maintenant ajouter un réseau cible pour l'améliorer.\n",
    "\n",
    "> <span style=\"color:green\"> Quelle est la cause des instabilités de l'algorithme précédent ? Pourquoi le réseau cible améliore ces instabilités ?</span> "
   ]
  },
  {
   "cell_type": "markdown",
   "metadata": {
    "tags": []
   },
   "source": [
    "> <span style=\"color:blue\">Votre réponse: </span>"
   ]
  },
  {
   "cell_type": "markdown",
   "metadata": {},
   "source": [
    "L'algorithme DQN (avec réseau cible) est donné ci-dessous:\n",
    "\n",
    "<img src='img/DQNcible.png'  width=500px>"
   ]
  },
  {
   "cell_type": "markdown",
   "metadata": {},
   "source": [
    "\n",
    "Le réseau cible sera mis à jour toutes les N étapes d'apprentissage (500 par exemple si $t=4$) en recopiant entièrement le réseau de neurone original dans le duplicat.\n",
    "\n",
    "Pour copier des poids d'un réseau de neurone vers un autre, la méthode `copy_` peut être appelée sur les paramètres:\n",
    "\n",
    "`for param_duplicat, param_source in zip(model_duplicat.parameters(), model_source.parameters()):`\n",
    "           \n",
    "`param_duplicat.data.copy_(param_source.data)`\n",
    "\n",
    "> <span style=\"color:green\"> Compléter la classe `AgentDQNCible` pour implémenter un agent apprenant avec DQN (deep QLearning et *target network*).</span> \n",
    "\n",
    "\n",
    "\n"
   ]
  },
  {
   "cell_type": "markdown",
   "metadata": {},
   "source": [
    "\n",
    "> <span style=\"color:green\">Utiliser cet agent **dans l'algorithme dqnalgo précédent**. Vous proposerez un tracé de la somme des récompenses obtenues par épisode sur plusieurs seed.</span> "
   ]
  },
  {
   "cell_type": "code",
   "execution_count": null,
   "metadata": {},
   "outputs": [],
   "source": [
    "from agentdqncible import AgentDQNCible"
   ]
  },
  {
   "cell_type": "code",
   "execution_count": null,
   "metadata": {},
   "outputs": [],
   "source": [
    "# TODO"
   ]
  },
  {
   "cell_type": "markdown",
   "metadata": {},
   "source": [
    "# 6. Sauvegarde d'un agent\n",
    "\n",
    "> <span style=\"color:green\"> Sauvegarder un agent qui a correctement appris dans un fichier 'monAgentDQN.pth'. Vous préciserez ci-dessous les hyperparamètres utilisés pour cet agent. </span> \n",
    "\n"
   ]
  },
  {
   "cell_type": "markdown",
   "metadata": {},
   "source": [
    "> <span style=\"color:blue\">Hyperparamètres de l'agent: </span>"
   ]
  },
  {
   "cell_type": "code",
   "execution_count": null,
   "metadata": {},
   "outputs": [],
   "source": [
    "#Exemple de code pour sauvegarde d'un réseau\n",
    "#savedfile = 'checkpoint.pth'\n",
    "#torch.save(agent.network.state_dict(), savedfile)\n",
    "\n",
    "#Exemple de code pour chargement d'un reseau sauvegarde\n",
    "#state_dict = torch.load(savedfile)\n",
    "#agent.network.load_state_dict(state_dict)"
   ]
  },
  {
   "cell_type": "markdown",
   "metadata": {},
   "source": [
    "> <span style=\"color:green\"> Proposer un code ci-dessous pour visualiser un épisode de cet agent en mode glouton. </span> \n"
   ]
  },
  {
   "cell_type": "code",
   "execution_count": null,
   "metadata": {},
   "outputs": [],
   "source": [
    "env = gym.make(\"LunarLander-v3\", render_mode=\"human\")\n",
    "#TODO "
   ]
  },
  {
   "cell_type": "markdown",
   "metadata": {},
   "source": [
    "> <span style=\"color:green\"> Si vous avez testé différents hyperparamètres, vous pouvez le préciser ci-dessous. </span> "
   ]
  },
  {
   "cell_type": "markdown",
   "metadata": {},
   "source": [
    "> <span style=\"color:blue\">Hyperparamètres testés: </span>"
   ]
  },
  {
   "cell_type": "code",
   "execution_count": null,
   "metadata": {},
   "outputs": [],
   "source": []
  },
  {
   "cell_type": "code",
   "execution_count": null,
   "metadata": {},
   "outputs": [],
   "source": []
  }
 ],
 "metadata": {
  "kernelspec": {
   "display_name": "tpdeeprl2024",
   "language": "python",
   "name": "python3"
  },
  "language_info": {
   "codemirror_mode": {
    "name": "ipython",
    "version": 3
   },
   "file_extension": ".py",
   "mimetype": "text/x-python",
   "name": "python",
   "nbconvert_exporter": "python",
   "pygments_lexer": "ipython3",
   "version": "3.10.18"
  }
 },
 "nbformat": 4,
 "nbformat_minor": 4
}

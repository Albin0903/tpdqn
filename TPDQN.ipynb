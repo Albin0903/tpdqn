{
 "cells": [
  {
   "cell_type": "markdown",
   "metadata": {},
   "source": [
    "# TP1 Deep QLearning\n",
    "\n",
    "Dans ce TP, l'objectif est d'implémenter un agent apprenant à faire atterir un vaisseau sur la lune avec l'algorithme Deep Q-Network. Pour cela vous allez utiliser [PyTorch](https://pytorch.org/) et [Gymnasium](https://gymnasium.farama.org/). \n",
    "\n",
    "<img src='img/lunarlander.png'  width=500px>\n",
    "\n",
    "# 1. Consignes\n",
    "\n",
    "> <span style=\"color:red\">Compléter ce notebook et les différents fichiers python associés</span>.  \n",
    "> \n",
    ">  <span style=\"color:red\">Répondre aux questions</span> (dans les cellules <span style=\"color:blue\">Votre réponse: </span> )\n",
    "\n",
    "\n",
    "> Le code doit être fonctionnel avec l'environnement virtuel du TP. Si d'autres packages que ceux présents dans l'environnement virtuel créé au départ sont nécessaires, vous devez ajouter à votre dépôt un fichier `environnement.yaml` qui est un export de votre environnement virtuel. Ce fichier est obtenu avec la commande suivante:  ```conda env export > environnement.yaml```\n",
    "\n",
    "\n",
    "\n",
    "# 2. Import des packages"
   ]
  },
  {
   "cell_type": "code",
   "execution_count": 1,
   "metadata": {},
   "outputs": [],
   "source": [
    "import gymnasium as gym\n",
    "import random\n",
    "import torch\n",
    "import numpy as np\n",
    "from collections import deque\n",
    "import matplotlib.pyplot as plt\n",
    "%matplotlib inline\n",
    "%load_ext autoreload\n",
    "def init_seed(seedval):\n",
    "    torch.manual_seed(seedval)\n",
    "    np.random.seed(seedval)\n",
    "    random.seed(seedval)"
   ]
  },
  {
   "cell_type": "markdown",
   "metadata": {},
   "source": [
    "# 3. Gymnasium\n",
    "\n",
    "En apprentissage par renforcement, il y a deux concepts fondamentaux : l’agent et l’environnement.\n",
    "- L’agent est l’entité apprenante qui observe l’environnement et agit sur celui-ci selon les actions disponibles. Son objectif est de maximiser la récompense cumulée qu’il recoit de l’environnement avec lequel il interagit.\n",
    "- L'agent interagit avec l'environnement à travers la boucle de perception/action ce qui nécessite de définir :\n",
    "    - Un espace d’action.\n",
    "    - Un espace d’état (ou observation).\n",
    "    - Une fonction de récompense.\n",
    "  \n",
    "[Gymnasium](https://gymnasium.farama.org/) propose une interface open source unifiée entre un agent et un environnement.\n",
    "- [Gymnasium](https://gymnasium.farama.org/) propose un ensemble d'environnements pour des tâches d'apprentissage par renforcement. La plupart des environnements ont leur code source disponible sur [GitHub](https://github.com/Farama-Foundation/Gymnasium/tree/main/gymnasium/envs). De nouveaux environnements peuvent aussi être créés à condition qu'ils soient compatibles avec l'interface. \n",
    "- Grâce à l'interface unifiée, il est possible de définir indépendamment un agent de l’environnement avec lequel il interagit (et inversement). \n",
    "- Lorsque certains pré-traitements sont nécessaires sur les actions, observations, récompenses, ... il est possible d’encapsuler l’environnement dans un **wrapper**, celui-ci se chargera du pré-traitement. \n",
    "\n"
   ]
  },
  {
   "cell_type": "markdown",
   "metadata": {},
   "source": [
    "\n",
    ">  <span style=\"color:green\">Documentation de Gymnasium</span>: [utilisation basique](https://gymnasium.farama.org/content/basic_usage/), [API pour les environnements](https://gymnasium.farama.org/api/env/), ...\n",
    "\n",
    "\n"
   ]
  },
  {
   "cell_type": "markdown",
   "metadata": {},
   "source": [
    "##  3.1 - Caractéristiques de l'environnement LunarLander\n",
    "\n",
    "Dans ce TP, nous allons implémenter un agent qui interagira avec l'environnement **LunarLander**, présenté  [ici](https://gymnasium.farama.org/environments/box2d/lunar_lander/) et le code source est [ici](https://github.com/openai/gym/blob/master/gym/envs/box2d/lunar_lander.py). 2 versions de LunarLander existent: avec des actions discrètes ou des actions continues.\n",
    "\n",
    "> <span style=\"color:green\">Quelle version choisir pour utiliser le DQN ? Pourquoi ? \n",
    "\n"
   ]
  },
  {
   "cell_type": "markdown",
   "metadata": {},
   "source": [
    "> <span style=\"color:blue\">Votre réponse: </span>\n",
    "\n",
    "Il faut choisir la version avec des actions discrètes, c'est-à-dire la version qui comprend un nombre d'action limité et défini. Le DQN fonctionne avec des actions discrètes, car il utilise une table Q pour stocker les valeurs d'action-état. Si les actions étaient continues, il y aurait une infinité d'actions possibles, rendant la table Q impossible à gérer."
   ]
  },
  {
   "cell_type": "markdown",
   "metadata": {},
   "source": [
    "Il existe plusieurs fonctions clés pour interagir avec un environnement Gymnasium ( [utilisation basique](https://gymnasium.farama.org/introduction/basic_usage/) et [API](https://gymnasium.farama.org/api/env/)).\n",
    "\n",
    "\n",
    "> <span style=\"color:green\">Compléter la cellule de code ci-dessous pour afficher:\n",
    "> \n",
    "> - **les dimensions pour les espaces d'états et d'actions** de l'environnement `LunarLander`.\n",
    "> - les bornes min et max pour les dimensions de l'état\n",
    "> - un échantillon pris au hasard dans chaque espace. "
   ]
  },
  {
   "cell_type": "code",
   "execution_count": 3,
   "metadata": {},
   "outputs": [
    {
     "name": "stdout",
     "output_type": "stream",
     "text": [
      "Dimension état : 8\n",
      "Dimension action : 4\n",
      "Bornes état :\n",
      "Min :  [ -2.5        -2.5       -10.        -10.         -6.2831855 -10.\n",
      "  -0.         -0.       ]\n",
      "Max :  [ 2.5        2.5       10.        10.         6.2831855 10.\n",
      "  1.         1.       ]\n",
      "Échantillon aléatoire de l'espace d'état : [ 0.16482167 -1.2117152  -0.3748717   7.124034   -4.5266447   1.3091519\n",
      "  0.12405944  0.18079129]\n",
      "Échantillon aléatoire de l'espace d'action : 2\n"
     ]
    }
   ],
   "source": [
    "env = gym.make(\"LunarLander-v3\")\n",
    "\n",
    "# Dimension de l'état et du nombre d'actions\n",
    "print(\"Dimension état :\", env.observation_space.shape[0])\n",
    "print(\"Dimension action :\", env.action_space.n)\n",
    "\n",
    "# Bornes min et max de l'état\n",
    "print(\"Bornes état :\")\n",
    "print(\"Min : \", env.observation_space.low)\n",
    "print(\"Max : \", env.observation_space.high)\n",
    "\n",
    "# Echantillon \n",
    "print(f\"Échantillon aléatoire de l'espace d'état : {env.observation_space.sample()}\")\n",
    "print(f\"Échantillon aléatoire de l'espace d'action : {env.action_space.sample()}\")\n",
    "\n",
    "\n",
    "\n"
   ]
  },
  {
   "cell_type": "markdown",
   "metadata": {},
   "source": [
    "> <span style=\"color:green\"> </span>  A quoi correspond dans le cas du LunarLander une terminaison d'un épisode avec *terminated* à True ? avec *truncated* à True ?"
   ]
  },
  {
   "cell_type": "markdown",
   "metadata": {},
   "source": [
    "> <span style=\"color:blue\">Votre réponse: </span>\n",
    "\n",
    "Terminated signifie que lors de l'épisode, l'agent a atteint un état terminal, comme atterrir avec succès ou s'écraser.\n",
    "Truncated signifie que l'épisode a été interrompu avant même d'avoir atteint un état terminal, une limite de temps par exemple.\n",
    "\n",
    "```python"
   ]
  },
  {
   "cell_type": "markdown",
   "metadata": {},
   "source": [
    "## 3.2 Interaction et affichage de l'environnement sur un épisode\n",
    "\n",
    "> <span style=\"color:green\">Exécuter une instance de l'environnement `LunarLander` pendant un épisode avec des **actions aléatoires**. Afficher l'environnement à chaque pas pour visualiser le comportement du vaisseau. A la fin de l'épisode, afficher la somme des récompenses obtenues sur l'épisode et la raison pour laquelle l'épisode s'est terminé. </span>\n",
    "\n"
   ]
  },
  {
   "cell_type": "code",
   "execution_count": 4,
   "metadata": {},
   "outputs": [
    {
     "name": "stdout",
     "output_type": "stream",
     "text": [
      "Récompenses obtenues : -236.98846267294397\n",
      "L'épisode s'est terminé naturellement (atterrissage ou crash)\n"
     ]
    }
   ],
   "source": [
    "env = gym.make(\"LunarLander-v3\", render_mode=\"human\")\n",
    "\n",
    "obs, info = env.reset()\n",
    "terminated = False \n",
    "truncated = False\n",
    "sum_reward = 0\n",
    "env.render()\n",
    "\n",
    "while not terminated and not truncated:\n",
    "    action = env.action_space.sample() # on choisit une action aléatoire\n",
    "    obs, reward, terminated, truncated, info = env.step(action)\n",
    "    sum_reward += reward\n",
    "    env.render() # on affiche l'environnement\n",
    "\n",
    "print(f\"Récompenses obtenues : {sum_reward}\")\n",
    "if terminated :\n",
    "    print(\"L'épisode s'est terminé naturellement (atterrissage ou crash)\")\n",
    "elif truncated :\n",
    "    print(\"L'épisode a été tronqué (par exemple, limite de temps atteinte)\")\n",
    "\n",
    "env.close()\n"
   ]
  },
  {
   "cell_type": "markdown",
   "metadata": {},
   "source": [
    "# 4. Agent simple (sans apprentissage)\n",
    "\n",
    "Vous devez maintenant implémenter un **agent simple** qui utilise une **Q fonction paramétrée** (réseau de neurones) pour choisir ses actions selon une stratégie $\\epsilon$-greedy (mais pas d'apprentissage pour l'instant).\n",
    "\n",
    "> <span style=\"color:green\">- Quels éléments seront en entrée du NN ? En sortie ? Quelle sera la dimension de l'entrée ? De la sortie ? </span>\n",
    "\n"
   ]
  },
  {
   "cell_type": "markdown",
   "metadata": {},
   "source": [
    "> <span style=\"color:blue\">Votre réponse: </span>\n",
    "\n",
    "L'entrée du réseau de neurones contient l'état actuel de l'environnement : - la position (en x et y) - la vitesse (en x et y) - l'angle - la vitesse angulaire - les indicateurs de contact avec le sol (gauche et droite). La dimension de l'entrée est donc 8.\n",
    "\n",
    "La sortie du réseau de neurones contient les actions possibles : - ne rien faire - allumer le moteur principal - allumer le moteur gauche - allumer le moteur droit. La dimension de la sortie est donc 4.\n",
    "\n"
   ]
  },
  {
   "cell_type": "markdown",
   "metadata": {},
   "source": [
    "> <span style=\"color:green\">- Quelle fonction d'activation sera utilisée sur le dernière couche du réseau ? Pourquoi ? </span>\n"
   ]
  },
  {
   "cell_type": "markdown",
   "metadata": {},
   "source": [
    "> <span style=\"color:blue\">Votre réponse: </span>\n",
    "\n",
    "Les valeurs de sortie sont des valeurs de Q, or celles-ci peuvent être positives ou négatives et n'ont pas de borne supérieure. On ne peut donc pas utiliser une fonction d'activation non linéaire comme ReLU ou Sigmoid car elles limiteraient la plage de valeurs possibles. On utilisera donc aucune fonction d'activation sur la dernière couche. "
   ]
  },
  {
   "cell_type": "markdown",
   "metadata": {},
   "source": [
    "- définir l'architecture du réseau de neurones en complétant `QNN.py`. Ce réseau va approximer la Q-fonction comme dans DQN (pour l'instant, les poids du réseau ne seront pas mis à jour, le réseau est uniquement utilisé en prédiction).\n",
    "\n",
    "- définir un agent simple en complétant `agentsimple.py`: il utilisera la prédiction du réseau de neurones pour choisir ses actions selon une stratégie d’exploration $\\epsilon$-greedy.\n",
    "\n",
    "- utiliser cet agent sur plusieurs épisodes dans `LunarLander`. Vous utiliserez une décroissance de l'exploration, i.e. que $\\epsilon$ va décroitre à chaque épisode, en démarrant à une valeur élevée (beaucoup d'exploration) et avec une borne minimum. Ainsi, au premier épisode, $\\epsilon=\\epsilon_{start}$, et à chaque épisode, $\\epsilon=max(\\epsilon_{end}, \\epsilon_{decay}*\\epsilon)$. Par exemple sur 1000 épisodes, les valeurs peuvent être $\\epsilon_{start} = 1.0$, $\\epsilon_{end} = 0.01$ et $\\epsilon_{decay} = 0.995$.\n",
    "\n",
    "- proposer un tracé de la somme des récompenses obtenues par épisode (vous pouvez utiliser le fichier `utils.py`, le wrapper [RecordEpisodeStatistics](https://gymnasium.farama.org/api/wrappers/misc_wrappers/#gymnasium.wrappers.RecordEpisodeStatistics ),  ...).\n"
   ]
  },
  {
   "cell_type": "code",
   "execution_count": 5,
   "metadata": {},
   "outputs": [],
   "source": [
    "#Reload all modules every time before executing the Python code typed\n",
    "%autoreload 2\n",
    "# import depuis un fichier python local \n",
    "from QNN import QNN \n",
    "from agentsimple import AgentSimple\n",
    "import utils"
   ]
  },
  {
   "cell_type": "code",
   "execution_count": 6,
   "metadata": {},
   "outputs": [
    {
     "name": "stdout",
     "output_type": "stream",
     "text": [
      "Épisode 100/1000, Récompense: -491.41, Epsilon: 0.6058\n",
      "Épisode 200/1000, Récompense: -357.34, Epsilon: 0.3670\n",
      "Épisode 300/1000, Récompense: -473.87, Epsilon: 0.2223\n",
      "Épisode 400/1000, Récompense: -369.61, Epsilon: 0.1347\n",
      "Épisode 500/1000, Récompense: -688.59, Epsilon: 0.0816\n",
      "Épisode 600/1000, Récompense: -512.36, Epsilon: 0.0494\n",
      "Épisode 700/1000, Récompense: -641.66, Epsilon: 0.0299\n",
      "Épisode 800/1000, Récompense: -485.41, Epsilon: 0.0181\n",
      "Épisode 900/1000, Récompense: -476.79, Epsilon: 0.0110\n",
      "Épisode 1000/1000, Récompense: -423.31, Epsilon: 0.0100\n"
     ]
    },
    {
     "data": {
      "image/png": "[encoded data removed]",
      "text/plain": [
       "<Figure size 640x480 with 1 Axes>"
      ]
     },
     "metadata": {},
     "output_type": "display_data"
    },
    {
     "name": "stdout",
     "output_type": "stream",
     "text": [
      "Moyenne des récompenses sur les 100 derniers épisodes: -579.57\n"
     ]
    }
   ],
   "source": [
    "#TODO\n",
    "# Hyperparamètres\n",
    "NB_EPISODES = 1000\n",
    "EPS_START = 1.0\n",
    "EPS_END = 0.01\n",
    "EPS_DECAY = 0.995 \n",
    "\n",
    "env = gym.make(\"LunarLander-v3\")\n",
    "\n",
    "dim_entree = env.observation_space.shape[0] # 8\n",
    "dim_sortie = env.action_space.n # 4\n",
    "\n",
    "agent = AgentSimple(dim_entree, dim_sortie)\n",
    "\n",
    "rewards_list = [] # liste des récompenses par épisode\n",
    "epsilon = EPS_START\n",
    "\n",
    "for episode in range(NB_EPISODES):\n",
    "    obs, info = env.reset()\n",
    "    terminated = False\n",
    "    truncated = False\n",
    "    episode_reward = 0\n",
    "\n",
    "    while not terminated and not truncated:\n",
    "        action = agent.action_egreedy(obs, epsilon)\n",
    "        obs, reward, terminated, truncated, info = env.step(action)\n",
    "        episode_reward += reward\n",
    "        \n",
    "    rewards_list.append(episode_reward) \n",
    "\n",
    "    epsilon = max(EPS_END, EPS_DECAY * epsilon)\n",
    "    \n",
    "    if (episode + 1) % 100 == 0:\n",
    "        print(f\"Épisode {episode + 1}/{NB_EPISODES}, Récompense: {episode_reward:.2f}, Epsilon: {epsilon:.4f}\")\n",
    "\n",
    "env.close()\n",
    "\n",
    "utils.plot_sumrwdperepi(rewards_list)\n",
    "\n",
    "mean_last_100_episodes = np.mean(rewards_list[-100:])\n",
    "print(f\"Moyenne des récompenses sur les 100 derniers épisodes: {mean_last_100_episodes:.2f}\")"
   ]
  },
  {
   "cell_type": "markdown",
   "metadata": {},
   "source": [
    "# 5. Deep QLearning avec Replay Buffer\n",
    "\n",
    "L'algorithme (sans réseau cible) est donné ci-dessous:\n",
    "\n",
    "<img src='img/DQN2.png'  width=700px>\n"
   ]
  },
  {
   "cell_type": "markdown",
   "metadata": {},
   "source": [
    "- La phase d'**échantillonage** est une phase d'interaction avec l'environnement (sans apprentissage), pendant laquelle l'agent stocke en mémoire toutes les transitions rencontrées. Une transition est un tuple `(état,action,état_suivant,récompense,fin_episode)`. La mémoire a une taille maximale; lorsqu’elle est dépassée, les nouvelles transitions remplacent les plus anciennes. \n",
    "\n",
    "- La phase d'**apprentissage** permet de mettre à jour les paramètres de la fonction *Q* à partir de plusieurs (minibatch) transitions (64 par exemple) stockées dans la mémoire. La phase d'apprentissage est réalisée tous les `t` pas (ou actions) dans l'environnement (par ex. $t=4$).\n",
    "\n",
    "- La classe `ReplayBuffer` du fichier `replaybuffer.py` permet de stocker des transitions dans une mémoire et de récupérer des minibatch de transitions."
   ]
  },
  {
   "cell_type": "markdown",
   "metadata": {},
   "source": [
    "\n",
    "Vous devez implémenter l'algorithme du **Deep QLearning avec ReplayBuffer** donné ci-dessus.\n",
    "\n",
    "Remarque: \n",
    "- vous n'utiliserez pas de réseau cible (*target network*) pour l'instant.\n",
    "- Pour l'optimizer, SGD et [Adam](https://machinelearningmastery.com/adam-optimization-algorithm-for-deep-learning/) sont particulièrement adaptés. \n",
    "- Dans la phase d'apprentissage, les éléments récupérés dans un minibatch  sont des tenseurs de taille $d \\times dim\\_element$. Vous devez dans cette phase faire des calculs tensoriel directement (et pas de boucle for sur $d$ !)\n",
    "- Voici aussi des liens vers différentes fonctions de PyTorch qui pourraient vous être utiles: [unsqueeze](https://pytorch.org/docs/stable/generated/torch.unsqueeze.html), [gather](https://pytorch.org/docs/stable/generated/torch.gather.html)\n"
   ]
  },
  {
   "cell_type": "markdown",
   "metadata": {},
   "source": [
    "> <span style=\"color:green\">Compléter la classe `AgentDQN`</span> \n",
    ">\n",
    "> <span style=\"color:green\">Implémenter l'algorithme dans la fonction *dqnalgo* ci-dessous.  </span> \n",
    ">\n",
    "> <span style=\"color:green\">Utiliser cet agent sur plusieurs épisodes dans l'environnement `LunarLander`. Vous proposerez un tracé de la somme des récompenses obtenues par épisode (vous pouvez utiliser `utils.py`).</span> \n",
    "\n",
    "\n",
    " \n",
    " "
   ]
  },
  {
   "cell_type": "code",
   "execution_count": 7,
   "metadata": {},
   "outputs": [],
   "source": [
    "#Reload all modules every time before executing the Python code typed\n",
    "%autoreload 2\n",
    "from replaybuffer import ReplayBuffer\n",
    "from agentdqn import AgentDQN"
   ]
  },
  {
   "cell_type": "code",
   "execution_count": 7,
   "metadata": {},
   "outputs": [],
   "source": [
    "#TODO\n",
    "\n",
    "def dqnalgo(agent, env, nb_episodes, eps_start=1.0, eps_end=0.01, eps_decay=0.995):\n",
    "    \"\"\"\n",
    "    Algorithme d'entraînement Deep Q-Learning.\n",
    "\n",
    "    Args:\n",
    "        agent (AgentDQN): L'agent à entraîner.\n",
    "        env: L'environnement Gymnasium.\n",
    "        nb_episodes (int): Le nombre d'épisodes pour l'entraînement.\n",
    "        eps_start (float): Valeur initiale d'epsilon.\n",
    "        eps_end (float): Valeur minimale d'epsilon.\n",
    "        eps_decay (float): Facteur de décroissance d'epsilon.\n",
    "\n",
    "    Returns:\n",
    "        list: Une liste contenant la somme des récompenses pour chaque épisode.\n",
    "    \"\"\"\n",
    "    rewards_list = []  # Pour stocker la récompense de chaque épisode\n",
    "    epsilon = eps_start\n",
    "\n",
    "    for episode in range(1, nb_episodes + 1):\n",
    "        obs, info = env.reset()\n",
    "        episode_reward = 0\n",
    "        terminated = False\n",
    "        truncated = False\n",
    "\n",
    "        while not terminated and not truncated:\n",
    "            # 1. Choisir une action\n",
    "            action = agent.action_egreedy(obs, epsilon)\n",
    "\n",
    "            # 2. Effectuer l'action dans l'environnement\n",
    "            next_obs, reward, terminated, truncated, info = env.step(action)\n",
    "\n",
    "            # 3. L'agent mémorise la transition et apprend si nécessaire\n",
    "            #    Le booléen \"done\" est True si l'épisode est terminé pour n'importe quelle raison\n",
    "            done = terminated or truncated\n",
    "            agent.phase_echantillonage(obs, action, reward, next_obs, done)\n",
    "\n",
    "            # 4. Préparer le pas de temps suivant\n",
    "            obs = next_obs\n",
    "            episode_reward += reward\n",
    "\n",
    "        # L'épisode est terminé, on sauvegarde la récompense\n",
    "        rewards_list.append(episode_reward)\n",
    "\n",
    "        # On fait décroître epsilon\n",
    "        epsilon = max(eps_end, eps_decay * epsilon)\n",
    "\n",
    "        # On affiche la progression\n",
    "        if episode % 100 == 0:\n",
    "            avg_reward = np.mean(rewards_list[-100:])\n",
    "            print(f\"Épisode {episode}/{nb_episodes} | Récompense moyenne (100 derniers): {avg_reward:.2f} | Epsilon: {epsilon:.4f}\")\n",
    "\n",
    "    return rewards_list\n",
    "\n",
    "    "
   ]
  },
  {
   "cell_type": "code",
   "execution_count": null,
   "metadata": {},
   "outputs": [
    {
     "name": "stdout",
     "output_type": "stream",
     "text": [
      "Début de l'entraînement...\n",
      "Épisode 100/2000 | Récompense moyenne (100 derniers): -152.30 | Epsilon: 0.7405\n",
      "Épisode 200/2000 | Récompense moyenne (100 derniers): -148.11 | Epsilon: 0.5483\n",
      "Épisode 300/2000 | Récompense moyenne (100 derniers): -87.65 | Epsilon: 0.4060\n",
      "Épisode 400/2000 | Récompense moyenne (100 derniers): -14.13 | Epsilon: 0.3007\n",
      "Épisode 500/2000 | Récompense moyenne (100 derniers): 62.89 | Epsilon: 0.2226\n",
      "Épisode 600/2000 | Récompense moyenne (100 derniers): 19.54 | Epsilon: 0.1649\n",
      "Épisode 700/2000 | Récompense moyenne (100 derniers): 51.07 | Epsilon: 0.1221\n",
      "Épisode 800/2000 | Récompense moyenne (100 derniers): 80.53 | Epsilon: 0.0904\n",
      "Épisode 900/2000 | Récompense moyenne (100 derniers): 96.39 | Epsilon: 0.0669\n",
      "Épisode 1000/2000 | Récompense moyenne (100 derniers): 72.89 | Epsilon: 0.0496\n",
      "Épisode 1100/2000 | Récompense moyenne (100 derniers): 116.74 | Epsilon: 0.0367\n",
      "Épisode 1200/2000 | Récompense moyenne (100 derniers): 169.15 | Epsilon: 0.0272\n",
      "Épisode 1300/2000 | Récompense moyenne (100 derniers): 177.02 | Epsilon: 0.0201\n",
      "Épisode 1400/2000 | Récompense moyenne (100 derniers): 200.12 | Epsilon: 0.0149\n",
      "Épisode 1500/2000 | Récompense moyenne (100 derniers): 205.62 | Epsilon: 0.0110\n",
      "Épisode 1600/2000 | Récompense moyenne (100 derniers): 227.40 | Epsilon: 0.0100\n",
      "Épisode 1700/2000 | Récompense moyenne (100 derniers): 222.12 | Epsilon: 0.0100\n",
      "Épisode 1800/2000 | Récompense moyenne (100 derniers): 227.88 | Epsilon: 0.0100\n",
      "Épisode 1900/2000 | Récompense moyenne (100 derniers): 231.63 | Epsilon: 0.0100\n",
      "Épisode 2000/2000 | Récompense moyenne (100 derniers): 226.44 | Epsilon: 0.0100\n",
      "Entraînement terminé.\n"
     ]
    },
    {
     "data": {
      "image/png": "[encoded data removed]",
      "text/plain": [
       "<Figure size 640x480 with 1 Axes>"
      ]
     },
     "metadata": {},
     "output_type": "display_data"
    },
    {
     "name": "stdout",
     "output_type": "stream",
     "text": [
      "Performance finale (moyenne sur les 100 derniers épisodes): 226.44\n"
     ]
    }
   ],
   "source": [
    "import gymnasium as gym\n",
    "import numpy as np\n",
    "import torch\n",
    "import utils\n",
    "\n",
    "# Hyperparamètres principaux\n",
    "NB_EPISODES = 2000\n",
    "\n",
    "# Plan d'exploration epsilon-greedy (décroissance multiplicative)\n",
    "EPS_START = 1.0\n",
    "EPS_END = 0.01\n",
    "EPS_DECAY = 0.997\n",
    "\n",
    "# Hyperparamètres DQN\n",
    "GAMMA = 0.99\n",
    "LR = 3e-4\n",
    "BUFFER_SIZE = 100000\n",
    "BATCH_SIZE = 64\n",
    "UPDATE_EVERY = 4\n",
    "\n",
    "# Environnement d'entraînement\n",
    "env = gym.make(\"LunarLander-v3\")\n",
    "\n",
    "# Dimensions état/action depuis l'environnement\n",
    "dim_etat = env.observation_space.shape[0]\n",
    "dim_action = env.action_space.n\n",
    "\n",
    "# Instanciation de l'agent DQN\n",
    "agent = AgentDQN(dim_etat=dim_etat, dim_action=dim_action, gamma=GAMMA, lr=LR, buffer_size=BUFFER_SIZE, batch_size=BATCH_SIZE, update_every=UPDATE_EVERY)\n",
    "\n",
    "# Lancement de l'entraînement (la boucle est gérée dans dqnalgo)\n",
    "print(\"Début de l'entraînement...\")\n",
    "rewards = dqnalgo(agent=agent, env=env, nb_episodes=NB_EPISODES, eps_start=EPS_START, eps_end=EPS_END, eps_decay=EPS_DECAY)\n",
    "print(\"Entraînement terminé.\")\n",
    "\n",
    "# Suivi des performances\n",
    "utils.plot_sumrwdperepi(rewards)\n",
    "mean_last_100_episodes = np.mean(rewards[-100:])\n",
    "print(f\"Performance finale (moyenne sur les 100 derniers épisodes): {mean_last_100_episodes:.2f}\")\n",
    "\n",
    "env.close()"
   ]
  },
  {
   "cell_type": "markdown",
   "metadata": {},
   "source": [
    "> <span style=\"color:green\">Faites maintenant une moyenne sur différents seed, avec un apprentissage par seed, et tracer le résultat (somme des récompenses par épisodes) moyenné sur ces seed. Vous utiliserez `init_seed()` et pouvez utiliser `utils.py`.</span> </span> "
   ]
  },
  {
   "cell_type": "code",
   "execution_count": null,
   "metadata": {},
   "outputs": [
    {
     "name": "stdout",
     "output_type": "stream",
     "text": [
      "Lancement de la visualisation de l'agent entraîné...\n",
      "\n",
      "Récompense obtenue par l'agent entraîné : 250.81\n"
     ]
    },
    {
     "ename": "",
     "evalue": "",
     "output_type": "error",
     "traceback": [
      "\u001b[1;31mThe Kernel crashed while executing code in the current cell or a previous cell. \n",
      "\u001b[1;31mPlease review the code in the cell(s) to identify a possible cause of the failure. \n",
      "\u001b[1;31mClick <a href='https://aka.ms/vscodeJupyterKernelCrash'>here</a> for more info. \n",
      "\u001b[1;31mView Jupyter <a href='command:jupyter.viewOutput'>log</a> for further details."
     ]
    }
   ],
   "source": [
    "# cellule pour tester l'agent entraîné juste après l'execution de l'entraînement\n",
    "print(\"Lancement de la visualisation de l'agent entraîné...\")\n",
    "env = gym.make(\"LunarLander-v3\", render_mode=\"human\")\n",
    "obs, info = env.reset()\n",
    "terminated = False \n",
    "truncated = False\n",
    "sum_reward = 0\n",
    "while not terminated and not truncated:\n",
    "    action = agent.action_egreedy(obs, eps=0.0)\n",
    "    obs, reward, terminated, truncated, info = env.step(action)\n",
    "    sum_reward += reward\n",
    "print(f\"\\nRécompense obtenue par l'agent entraîné : {sum_reward:.2f}\")"
   ]
  },
  {
   "cell_type": "code",
   "execution_count": null,
   "metadata": {},
   "outputs": [
    {
     "name": "stdout",
     "output_type": "stream",
     "text": [
      "Agent sauvegardé dans le fichier : agent_dqn_lunarlander_260.pth\n"
     ]
    }
   ],
   "source": [
    "# on sauvegarde l'agent entraîné\n",
    "nom_fichier = 'agent_dqn.pth'\n",
    "torch.save(agent.network.state_dict(), nom_fichier)\n",
    "print(f\"Agent sauvegardé dans le fichier : {nom_fichier}\")"
   ]
  },
  {
   "cell_type": "code",
   "execution_count": null,
   "metadata": {},
   "outputs": [
    {
     "name": "stdout",
     "output_type": "stream",
     "text": [
      "Poids de l'agent chargés depuis : agent_dqn_lunarlander_260.pth\n",
      "\n",
      "Récompense obtenue par l'agent chargé : 239.32\n"
     ]
    }
   ],
   "source": [
    "#  on recharge l'agent sauvegardé\n",
    "import gymnasium as gym\n",
    "import torch\n",
    "from agentdqn import AgentDQN\n",
    "\n",
    "env = gym.make(\"LunarLander-v3\")\n",
    "dim_etat = env.observation_space.shape[0]\n",
    "dim_action = env.action_space.n\n",
    "agent_charge = AgentDQN(dim_etat=dim_etat, dim_action=dim_action)\n",
    "env.close()\n",
    "\n",
    "nom_fichier = 'agent_dqn.pth'\n",
    "agent_charge.network.load_state_dict(torch.load(nom_fichier))\n",
    "print(f\"Poids de l'agent chargés depuis : {nom_fichier}\")\n",
    "\n",
    "agent_charge.network.eval()\n",
    "\n",
    "env = gym.make(\"LunarLander-v3\", render_mode=\"human\")\n",
    "obs, info = env.reset()\n",
    "terminated = False\n",
    "truncated = False\n",
    "sum_reward = 0\n",
    "\n",
    "while not terminated and not truncated:\n",
    "    action = agent_charge.action_egreedy(obs, eps=0.0) # Utiliser l'agent chargé\n",
    "    obs, reward, terminated, truncated, info = env.step(action)\n",
    "    sum_reward += reward\n",
    "\n",
    "print(f\"\\nRécompense obtenue par l'agent chargé : {sum_reward:.2f}\")\n",
    "env.close()"
   ]
  },
  {
   "cell_type": "markdown",
   "metadata": {},
   "source": [
    "# 6. Deep QLearning avec réseau cible\n",
    "\n",
    "Il se peut que votre agent précédent apprenne des comportements intéressants mais qu’ils soient très instables. On va maintenant ajouter un réseau cible pour l'améliorer.\n",
    "\n",
    "> <span style=\"color:green\"> Quelle est la cause des instabilités de l'algorithme précédent ? Pourquoi le réseau cible améliore ces instabilités ?</span> "
   ]
  },
  {
   "cell_type": "markdown",
   "metadata": {
    "tags": []
   },
   "source": [
    "> <span style=\"color:blue\">Votre réponse: </span>"
   ]
  },
  {
   "cell_type": "markdown",
   "metadata": {},
   "source": [
    "Le réseau est utilisé à la fois pour calculer des les valeurs actuelles et les valeurs cibles, ce qui crée une boucle de rétroaction, car chaque mise à jour des poids modifie aussi la cible à atteindre. De plus, les valeurs Q peuvent diverger ou osciller, ce qui empêche l'agent d'apprendre de manière stable.\n",
    "\n",
    "En utilisant un réseau cible, on sépare les calculs des valeurs actuelles et des valeurs cibles. Le réseau cible est mis à jour moins fréquemment, ce qui réduit la corrélation entre les deux et stabilise l'apprentissage."
   ]
  },
  {
   "cell_type": "markdown",
   "metadata": {},
   "source": [
    "L'algorithme DQN (avec réseau cible) est donné ci-dessous:\n",
    "\n",
    "<img src='img/DQNcible.png'  width=500px>"
   ]
  },
  {
   "cell_type": "markdown",
   "metadata": {},
   "source": [
    "\n",
    "Le réseau cible sera mis à jour toutes les N étapes d'apprentissage (500 par exemple si $t=4$) en recopiant entièrement le réseau de neurone original dans le duplicat.\n",
    "\n",
    "Pour copier des poids d'un réseau de neurone vers un autre, la méthode `copy_` peut être appelée sur les paramètres:\n",
    "\n",
    "`for param_duplicat, param_source in zip(model_duplicat.parameters(), model_source.parameters()):`\n",
    "           \n",
    "`param_duplicat.data.copy_(param_source.data)`\n",
    "\n",
    "> <span style=\"color:green\"> Compléter la classe `AgentDQNCible` pour implémenter un agent apprenant avec DQN (deep QLearning et *target network*).</span> \n",
    "\n",
    "\n",
    "\n"
   ]
  },
  {
   "cell_type": "markdown",
   "metadata": {},
   "source": [
    "\n",
    "> <span style=\"color:green\">Utiliser cet agent **dans l'algorithme dqnalgo précédent**. Vous proposerez un tracé de la somme des récompenses obtenues par épisode sur plusieurs seed.</span> "
   ]
  },
  {
   "cell_type": "code",
   "execution_count": 6,
   "metadata": {},
   "outputs": [],
   "source": [
    "from agentdqncible import AgentDQNCible"
   ]
  },
  {
   "cell_type": "code",
   "execution_count": 8,
   "metadata": {},
   "outputs": [
    {
     "name": "stdout",
     "output_type": "stream",
     "text": [
      "Début entraînement (DQN + réseau cible)...\n",
      "Épisode 100/2000 | Récompense moyenne (100 derniers): -202.80 | Epsilon: 0.7405\n",
      "Épisode 200/2000 | Récompense moyenne (100 derniers): -133.21 | Epsilon: 0.5483\n",
      "Épisode 300/2000 | Récompense moyenne (100 derniers): -99.75 | Epsilon: 0.4060\n",
      "Épisode 400/2000 | Récompense moyenne (100 derniers): -0.08 | Epsilon: 0.3007\n",
      "Épisode 500/2000 | Récompense moyenne (100 derniers): 68.80 | Epsilon: 0.2226\n",
      "Épisode 600/2000 | Récompense moyenne (100 derniers): 112.89 | Epsilon: 0.1649\n",
      "Épisode 700/2000 | Récompense moyenne (100 derniers): 184.00 | Epsilon: 0.1221\n",
      "Épisode 800/2000 | Récompense moyenne (100 derniers): 180.91 | Epsilon: 0.0904\n",
      "Épisode 900/2000 | Récompense moyenne (100 derniers): 200.56 | Epsilon: 0.0669\n",
      "Épisode 1000/2000 | Récompense moyenne (100 derniers): 222.86 | Epsilon: 0.0496\n",
      "Épisode 1100/2000 | Récompense moyenne (100 derniers): 178.78 | Epsilon: 0.0367\n",
      "Épisode 1200/2000 | Récompense moyenne (100 derniers): 184.43 | Epsilon: 0.0272\n",
      "Épisode 1300/2000 | Récompense moyenne (100 derniers): 193.24 | Epsilon: 0.0201\n",
      "Épisode 1400/2000 | Récompense moyenne (100 derniers): 253.52 | Epsilon: 0.0149\n",
      "Épisode 1500/2000 | Récompense moyenne (100 derniers): 248.53 | Epsilon: 0.0110\n",
      "Épisode 1600/2000 | Récompense moyenne (100 derniers): 259.80 | Epsilon: 0.0100\n",
      "Épisode 1700/2000 | Récompense moyenne (100 derniers): 243.20 | Epsilon: 0.0100\n",
      "Épisode 1800/2000 | Récompense moyenne (100 derniers): 244.63 | Epsilon: 0.0100\n",
      "Épisode 1900/2000 | Récompense moyenne (100 derniers): 232.61 | Epsilon: 0.0100\n",
      "Épisode 2000/2000 | Récompense moyenne (100 derniers): 246.43 | Epsilon: 0.0100\n",
      "Entraînement terminé.\n"
     ]
    },
    {
     "data": {
      "image/png": "[encoded data removed]",
      "text/plain": [
       "<Figure size 640x480 with 1 Axes>"
      ]
     },
     "metadata": {},
     "output_type": "display_data"
    },
    {
     "name": "stdout",
     "output_type": "stream",
     "text": [
      "Moyenne des 100 derniers épisodes: 246.43\n"
     ]
    }
   ],
   "source": [
    "#TODO\n",
    "# Entraînement DQN avec réseau cible (target network)\n",
    "import gymnasium as gym\n",
    "import numpy as np\n",
    "import utils\n",
    "from agentdqncible import AgentDQNCible\n",
    "\n",
    "# Hyperparamètres\n",
    "NB_EPISODES = 2000\n",
    "EPS_START, EPS_END, EPS_DECAY = 1.0, 0.01, 0.997\n",
    "GAMMA, LR = 0.99, 3e-4\n",
    "BUFFER_SIZE, BATCH_SIZE = 100000, 64\n",
    "UPDATE_EVERY = 4\n",
    "TARGET_UPDATE_EVERY = 500  # copie \"hard\" du réseau en ligne vers le réseau cible\n",
    "\n",
    "# Environnement\n",
    "env = gym.make(\"LunarLander-v3\")\n",
    "dim_etat = env.observation_space.shape[0]\n",
    "dim_action = env.action_space.n\n",
    "\n",
    "# Agent avec réseau cible\n",
    "agent = AgentDQNCible(\n",
    "    dim_etat=dim_etat,\n",
    "    dim_action=dim_action,\n",
    "    gamma=GAMMA,\n",
    "    lr=LR,\n",
    "    buffer_size=BUFFER_SIZE,\n",
    "    batch_size=BATCH_SIZE,\n",
    "    update_every=UPDATE_EVERY,\n",
    "    target_update_every=TARGET_UPDATE_EVERY,\n",
    ")\n",
    "\n",
    "# Entraînement (boucle gérée par dqnalgo)\n",
    "print(\"Début entraînement (DQN + réseau cible)...\")\n",
    "rewards_target = dqnalgo(\n",
    "    agent=agent,\n",
    "    env=env,\n",
    "    nb_episodes=NB_EPISODES,\n",
    "    eps_start=EPS_START,\n",
    "    eps_end=EPS_END,\n",
    "    eps_decay=EPS_DECAY,\n",
    ")\n",
    "print(\"Entraînement terminé.\")\n",
    "\n",
    "# Suivi des performances\n",
    "utils.plot_sumrwdperepi(rewards_target)\n",
    "print(f\"Moyenne des 100 derniers épisodes: {np.mean(rewards_target[-100:]):.2f}\")\n",
    "\n",
    "env.close()"
   ]
  },
  {
   "cell_type": "markdown",
   "metadata": {},
   "source": [
    "# 6. Sauvegarde d'un agent\n",
    "\n",
    "> <span style=\"color:green\"> Sauvegarder un agent qui a correctement appris dans un fichier 'monAgentDQN.pth'. Vous préciserez ci-dessous les hyperparamètres utilisés pour cet agent. </span> \n",
    "\n"
   ]
  },
  {
   "cell_type": "markdown",
   "metadata": {},
   "source": [
    "> <span style=\"color:blue\">Hyperparamètres de l'agent: </span>"
   ]
  },
  {
   "cell_type": "markdown",
   "metadata": {},
   "source": [
    "- Environnement : LunarLander-v3\n",
    "- Algorithme : DQN avec réseau cible\n",
    "- Gamma (discount) : 0.99\n",
    "- Optimiseur : Adam (lr = 3e-4)\n",
    "- Replay buffer : 100000 transitions\n",
    "- Batch size : 64\n",
    "- Fréquence d’apprentissage (update_every) : 4 pas\n",
    "- Stratégie epsilon-greedy : start=1.0, end=0.01, decay=0.997\n",
    "- Mise à jour du réseau cible (target_update_every) : 500 pas d’apprentissage"
   ]
  },
  {
   "cell_type": "code",
   "execution_count": null,
   "metadata": {},
   "outputs": [],
   "source": [
    "#Exemple de code pour sauvegarde d'un réseau\n",
    "savedfile = 'checkpoint.pth'\n",
    "torch.save(agent.network.state_dict(), savedfile)\n",
    "\n",
    "#Exemple de code pour chargement d'un reseau sauvegarde\n",
    "state_dict = torch.load(savedfile)\n",
    "agent.network.load_state_dict(state_dict)"
   ]
  },
  {
   "cell_type": "markdown",
   "metadata": {},
   "source": [
    "> <span style=\"color:green\"> Proposer un code ci-dessous pour visualiser un épisode de cet agent en mode glouton. </span> \n"
   ]
  },
  {
   "cell_type": "code",
   "execution_count": null,
   "metadata": {},
   "outputs": [
    {
     "name": "stdout",
     "output_type": "stream",
     "text": [
      "Récompense de l'épisode (greedy): 247.28\n"
     ]
    }
   ],
   "source": [
    "env = gym.make(\"LunarLander-v3\", render_mode=\"human\")\n",
    "#TODO \n",
    "import os\n",
    "import torch\n",
    "from agentdqn import AgentDQN\n",
    "\n",
    "# Dimensions de l'environnement\n",
    "dim_etat = env.observation_space.shape[0]\n",
    "dim_action = env.action_space.n\n",
    "\n",
    "# Fichier de poids\n",
    "checkpoint = \"checkpoint.pth\"\n",
    "\n",
    "# Préparer l'agent et charger les poids\n",
    "agent_visu = AgentDQN(dim_etat=dim_etat, dim_action=dim_action)\n",
    "agent_visu.network.load_state_dict(torch.load(checkpoint, map_location=\"cpu\"))\n",
    "agent_visu.network.eval()\n",
    "\n",
    "# Exécuter un épisode en mode glouton\n",
    "obs, info = env.reset()\n",
    "terminated, truncated = False, False\n",
    "sum_reward = 0.0\n",
    "\n",
    "while not terminated and not truncated:\n",
    "    with torch.no_grad():\n",
    "        action = agent_visu.action_egreedy(obs, eps=0.0)  # greedy\n",
    "    obs, reward, terminated, truncated, info = env.step(action)\n",
    "    sum_reward += reward\n",
    "\n",
    "env.close()\n",
    "print(f\"Récompense de l'épisode (greedy): {sum_reward:.2f}\")"
   ]
  },
  {
   "cell_type": "markdown",
   "metadata": {},
   "source": [
    "> <span style=\"color:green\"> Si vous avez testé différents hyperparamètres, vous pouvez le préciser ci-dessous. </span> "
   ]
  },
  {
   "cell_type": "markdown",
   "metadata": {},
   "source": [
    "> <span style=\"color:blue\">Hyperparamètres testés: </span>"
   ]
  },
  {
   "cell_type": "code",
   "execution_count": null,
   "metadata": {},
   "outputs": [],
   "source": []
  },
  {
   "cell_type": "code",
   "execution_count": null,
   "metadata": {},
   "outputs": [],
   "source": []
  }
 ],
 "metadata": {
  "kernelspec": {
   "display_name": "tpdeeprl2024",
   "language": "python",
   "name": "python3"
  },
  "language_info": {
   "codemirror_mode": {
    "name": "ipython",
    "version": 3
   },
   "file_extension": ".py",
   "mimetype": "text/x-python",
   "name": "python",
   "nbconvert_exporter": "python",
   "pygments_lexer": "ipython3",
   "version": "3.10.18"
  }
 },
 "nbformat": 4,
 "nbformat_minor": 4
}
